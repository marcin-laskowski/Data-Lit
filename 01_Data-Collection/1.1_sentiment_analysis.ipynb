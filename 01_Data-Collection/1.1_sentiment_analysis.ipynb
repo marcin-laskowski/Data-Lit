{
 "cells": [
  {
   "cell_type": "markdown",
   "metadata": {},
   "source": [
    "# **SENTIMENT ANALYSIS** | APPLE WATCHES"
   ]
  },
  {
   "cell_type": "code",
   "execution_count": 1,
   "metadata": {},
   "outputs": [],
   "source": [
    "# install needed dependencies\n",
    "#! pip3 install pandas\n",
    "#! pip3 install tweepy\n",
    "#! pip3 install nltk\n",
    "#! pip3 install vaderSentiment"
   ]
  },
  {
   "cell_type": "code",
   "execution_count": 2,
   "metadata": {},
   "outputs": [],
   "source": [
    "# Step 1 - Import Dependencies\n",
    "import warnings\n",
    "warnings.filterwarnings('ignore')\n",
    "\n",
    "import pandas as pd\n",
    "import tweepy\n",
    "from nltk.sentiment.vader import SentimentIntensityAnalyzer\n",
    "\n",
    "import re\n",
    "import nltk"
   ]
  },
  {
   "cell_type": "code",
   "execution_count": 3,
   "metadata": {},
   "outputs": [],
   "source": [
    "# Step 2 - Define Twitter API Authentication Variables\n",
    "consumer_key = ''                           # add your own key\n",
    "consumer_secret = ''                        # add your own secret\n",
    "access_token = ''                           # add your own token\n",
    "access_token_secret = ''                    # add your own token_secret"
   ]
  },
  {
   "cell_type": "code",
   "execution_count": 4,
   "metadata": {},
   "outputs": [],
   "source": [
    "# Step 3 - Authenticate with Twitter\n",
    "auth = tweepy.OAuthHandler(consumer_key, consumer_secret)\n",
    "auth.set_access_token(access_token, access_token_secret)\n",
    "\n",
    "api = tweepy.API(auth)"
   ]
  },
  {
   "cell_type": "code",
   "execution_count": 5,
   "metadata": {},
   "outputs": [],
   "source": [
    "# Step 4 - Define Cleaning Function\n",
    "def clean_tweet(tweet):\n",
    "    '''\n",
    "    Utility function to clean the text in a tweet by removing\n",
    "    links and special characters using regex.\n",
    "    '''\n",
    "    return ' '.join(re.sub(\"(@[A-Za-z0-9]+)|([^0-9A-Za-z \\t])|(\\w+:\\/\\/\\S+)\", ' ', tweet).split())"
   ]
  },
  {
   "cell_type": "code",
   "execution_count": 6,
   "metadata": {},
   "outputs": [
    {
     "data": {
      "text/html": [
       "<div>\n",
       "<style scoped>\n",
       "    .dataframe tbody tr th:only-of-type {\n",
       "        vertical-align: middle;\n",
       "    }\n",
       "\n",
       "    .dataframe tbody tr th {\n",
       "        vertical-align: top;\n",
       "    }\n",
       "\n",
       "    .dataframe thead th {\n",
       "        text-align: right;\n",
       "    }\n",
       "</style>\n",
       "<table border=\"1\" class=\"dataframe\">\n",
       "  <thead>\n",
       "    <tr style=\"text-align: right;\">\n",
       "      <th></th>\n",
       "      <th>Tweets</th>\n",
       "    </tr>\n",
       "  </thead>\n",
       "  <tbody>\n",
       "    <tr>\n",
       "      <th>0</th>\n",
       "      <td>10 BRG apple watch 4 apple watch series4</td>\n",
       "    </tr>\n",
       "    <tr>\n",
       "      <th>1</th>\n",
       "      <td>RT DANCING WITH A STRANGER Watch the official ...</td>\n",
       "    </tr>\n",
       "    <tr>\n",
       "      <th>2</th>\n",
       "      <td>RT DANCING WITH A STRANGER Watch the official ...</td>\n",
       "    </tr>\n",
       "    <tr>\n",
       "      <th>3</th>\n",
       "      <td>Brandende detailvraag over D66 minister Sigrid...</td>\n",
       "    </tr>\n",
       "    <tr>\n",
       "      <th>4</th>\n",
       "      <td>Error The new EKG which is absolute s</td>\n",
       "    </tr>\n",
       "  </tbody>\n",
       "</table>\n",
       "</div>"
      ],
      "text/plain": [
       "                                              Tweets\n",
       "0           10 BRG apple watch 4 apple watch series4\n",
       "1  RT DANCING WITH A STRANGER Watch the official ...\n",
       "2  RT DANCING WITH A STRANGER Watch the official ...\n",
       "3  Brandende detailvraag over D66 minister Sigrid...\n",
       "4              Error The new EKG which is absolute s"
      ]
     },
     "metadata": {},
     "output_type": "display_data"
    }
   ],
   "source": [
    "# Step 5 - Find Related Tweets\n",
    "tweets = api.search('Apple Watch', count=200)\n",
    "\n",
    "# clean and convert tweets (type: tweepy.models.SearchResults) to DataFrame\n",
    "data = pd.DataFrame(data=[clean_tweet(tweet.text) for tweet in tweets], columns=['Tweets'])\n",
    "\n",
    "# display first 5 elements of the dataframe\n",
    "display(data.head(5))"
   ]
  },
  {
   "cell_type": "code",
   "execution_count": 7,
   "metadata": {},
   "outputs": [
    {
     "name": "stdout",
     "output_type": "stream",
     "text": [
      "id:                 1090012013969866752\n",
      "created_at:         2019-01-28 22:21:30\n",
      "source:             kana_ogawa\n",
      "favorite_count:     0\n",
      "retweet_count:      0\n",
      "geo:                None\n",
      "coordinates:        None\n",
      "entities:           {'hashtags': [], 'symbols': [], 'user_mentions': [], 'urls': [{'url': 'https://t.co/k9oAURRt0p', 'expanded_url': 'https://twitter.com/i/web/status/1090012013969866752', 'display_url': 'twitter.com/i/web/status/1…', 'indices': [117, 140]}]}\n"
     ]
    }
   ],
   "source": [
    "# show Meta Data from a single tweet\n",
    "print('id:                ', tweets[0].id)\n",
    "print('created_at:        ', tweets[0].created_at)\n",
    "print('source:            ', tweets[0].source)\n",
    "print('favorite_count:    ', tweets[0].favorite_count)\n",
    "print('retweet_count:     ', tweets[0].retweet_count)\n",
    "print('geo:               ', tweets[0].geo)\n",
    "print('coordinates:       ', tweets[0].coordinates)\n",
    "print('entities:          ', tweets[0].entities)"
   ]
  },
  {
   "cell_type": "code",
   "execution_count": 8,
   "metadata": {},
   "outputs": [
    {
     "name": "stderr",
     "output_type": "stream",
     "text": [
      "[nltk_data] Downloading package vader_lexicon to\n",
      "[nltk_data]     /home/marcin/nltk_data...\n",
      "[nltk_data]   Package vader_lexicon is already up-to-date!\n"
     ]
    },
    {
     "data": {
      "text/plain": [
       "True"
      ]
     },
     "execution_count": 8,
     "metadata": {},
     "output_type": "execute_result"
    }
   ],
   "source": [
    "# gather lexicon data\n",
    "nltk.download('vader_lexicon')"
   ]
  },
  {
   "cell_type": "code",
   "execution_count": 9,
   "metadata": {},
   "outputs": [
    {
     "data": {
      "text/html": [
       "<div>\n",
       "<style scoped>\n",
       "    .dataframe tbody tr th:only-of-type {\n",
       "        vertical-align: middle;\n",
       "    }\n",
       "\n",
       "    .dataframe tbody tr th {\n",
       "        vertical-align: top;\n",
       "    }\n",
       "\n",
       "    .dataframe thead th {\n",
       "        text-align: right;\n",
       "    }\n",
       "</style>\n",
       "<table border=\"1\" class=\"dataframe\">\n",
       "  <thead>\n",
       "    <tr style=\"text-align: right;\">\n",
       "      <th></th>\n",
       "      <th>Tweets</th>\n",
       "      <th>polarity</th>\n",
       "    </tr>\n",
       "  </thead>\n",
       "  <tbody>\n",
       "    <tr>\n",
       "      <th>0</th>\n",
       "      <td>10 BRG apple watch 4 apple watch series4</td>\n",
       "      <td>{'neg': 0.0, 'neu': 1.0, 'pos': 0.0, 'compound...</td>\n",
       "    </tr>\n",
       "    <tr>\n",
       "      <th>1</th>\n",
       "      <td>RT DANCING WITH A STRANGER Watch the official ...</td>\n",
       "      <td>{'neg': 0.0, 'neu': 1.0, 'pos': 0.0, 'compound...</td>\n",
       "    </tr>\n",
       "    <tr>\n",
       "      <th>2</th>\n",
       "      <td>RT DANCING WITH A STRANGER Watch the official ...</td>\n",
       "      <td>{'neg': 0.0, 'neu': 1.0, 'pos': 0.0, 'compound...</td>\n",
       "    </tr>\n",
       "    <tr>\n",
       "      <th>3</th>\n",
       "      <td>Brandende detailvraag over D66 minister Sigrid...</td>\n",
       "      <td>{'neg': 0.0, 'neu': 1.0, 'pos': 0.0, 'compound...</td>\n",
       "    </tr>\n",
       "    <tr>\n",
       "      <th>4</th>\n",
       "      <td>Error The new EKG which is absolute s</td>\n",
       "      <td>{'neg': 0.31, 'neu': 0.69, 'pos': 0.0, 'compou...</td>\n",
       "    </tr>\n",
       "  </tbody>\n",
       "</table>\n",
       "</div>"
      ],
      "text/plain": [
       "                                              Tweets  \\\n",
       "0           10 BRG apple watch 4 apple watch series4   \n",
       "1  RT DANCING WITH A STRANGER Watch the official ...   \n",
       "2  RT DANCING WITH A STRANGER Watch the official ...   \n",
       "3  Brandende detailvraag over D66 minister Sigrid...   \n",
       "4              Error The new EKG which is absolute s   \n",
       "\n",
       "                                            polarity  \n",
       "0  {'neg': 0.0, 'neu': 1.0, 'pos': 0.0, 'compound...  \n",
       "1  {'neg': 0.0, 'neu': 1.0, 'pos': 0.0, 'compound...  \n",
       "2  {'neg': 0.0, 'neu': 1.0, 'pos': 0.0, 'compound...  \n",
       "3  {'neg': 0.0, 'neu': 1.0, 'pos': 0.0, 'compound...  \n",
       "4  {'neg': 0.31, 'neu': 0.69, 'pos': 0.0, 'compou...  "
      ]
     },
     "execution_count": 9,
     "metadata": {},
     "output_type": "execute_result"
    }
   ],
   "source": [
    "# Step 6 - Go through the tweets to analyse their sentiment\n",
    "\n",
    "sid = SentimentIntensityAnalyzer()\n",
    "\n",
    "list = []\n",
    "for index, row in data.iterrows():\n",
    "    ss = sid.polarity_scores(row['Tweets'])\n",
    "    list.append(ss)\n",
    "se = pd.Series(list)\n",
    "data['polarity'] = se.values\n",
    "\n",
    "# Display first 5 elements of the DataFrame:\n",
    "data.head()"
   ]
  }
 ],
 "metadata": {
  "kernelspec": {
   "display_name": "Python 3",
   "language": "python",
   "name": "python3"
  },
  "language_info": {
   "codemirror_mode": {
    "name": "ipython",
    "version": 3
   },
   "file_extension": ".py",
   "mimetype": "text/x-python",
   "name": "python",
   "nbconvert_exporter": "python",
   "pygments_lexer": "ipython3",
   "version": "3.6.7"
  }
 },
 "nbformat": 4,
 "nbformat_minor": 2
}
