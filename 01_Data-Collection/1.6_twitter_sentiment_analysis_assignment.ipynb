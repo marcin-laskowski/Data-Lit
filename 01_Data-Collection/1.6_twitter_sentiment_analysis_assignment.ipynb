{
 "cells": [
  {
   "cell_type": "markdown",
   "metadata": {},
   "source": [
    "# **TWITTER SENTIMENT ANALYSIS** | ASSIGNMENT"
   ]
  },
  {
   "cell_type": "markdown",
   "metadata": {},
   "source": [
    "### 1. IMPORT DEPENDENCIES"
   ]
  },
  {
   "cell_type": "code",
   "execution_count": 20,
   "metadata": {},
   "outputs": [],
   "source": [
    "import warnings\n",
    "warnings.filterwarnings('ignore')\n",
    "\n",
    "import pandas as pd\n",
    "import numpy as np\n",
    "import tweepy\n",
    "from nltk.sentiment.vader import SentimentIntensityAnalyzer\n",
    "import matplotlib.pyplot as plt\n",
    "%matplotlib inline\n",
    "\n",
    "import re\n",
    "import nltk"
   ]
  },
  {
   "cell_type": "markdown",
   "metadata": {},
   "source": [
    "### 2. TWITTER API AUTHENTICATION VARIABLES"
   ]
  },
  {
   "cell_type": "code",
   "execution_count": 2,
   "metadata": {},
   "outputs": [],
   "source": [
     "consumer_key = ''                           # add your own key\n",
     "consumer_secret = ''                        # add your own secret\n",
     "access_token = ''                           # add your own token\n",
     "access_token_secret = ''                    # add your own token_secret"
   ]
  },
  {
   "cell_type": "markdown",
   "metadata": {},
   "source": [
    "### 3. AUTHENTICATE WITH TWITTER"
   ]
  },
  {
   "cell_type": "code",
   "execution_count": 3,
   "metadata": {},
   "outputs": [],
   "source": [
    "auth = tweepy.OAuthHandler(consumer_key, consumer_secret)\n",
    "auth.set_access_token(access_token, access_token_secret)\n",
    "\n",
    "api = tweepy.API(auth)"
   ]
  },
  {
   "cell_type": "markdown",
   "metadata": {},
   "source": [
    "### 4. DEFINE CLEANING FUNCTION"
   ]
  },
  {
   "cell_type": "code",
   "execution_count": 4,
   "metadata": {},
   "outputs": [],
   "source": [
    "def clean_tweet(tweet):\n",
    "    '''\n",
    "    Utility function to clean the text in a tweet by removing\n",
    "    links and special characters using regex.\n",
    "    '''\n",
    "    return ' '.join(re.sub(\"(@[A-Za-z0-9]+)|([^0-9A-Za-z \\t])|(\\w+:\\/\\/\\S+)\", ' ', tweet).split())"
   ]
  },
  {
   "cell_type": "markdown",
   "metadata": {},
   "source": [
    "### 5. FIND RELATED TWEETS"
   ]
  },
  {
   "cell_type": "code",
   "execution_count": 5,
   "metadata": {},
   "outputs": [
    {
     "data": {
      "text/html": [
       "<div>\n",
       "<style scoped>\n",
       "    .dataframe tbody tr th:only-of-type {\n",
       "        vertical-align: middle;\n",
       "    }\n",
       "\n",
       "    .dataframe tbody tr th {\n",
       "        vertical-align: top;\n",
       "    }\n",
       "\n",
       "    .dataframe thead th {\n",
       "        text-align: right;\n",
       "    }\n",
       "</style>\n",
       "<table border=\"1\" class=\"dataframe\">\n",
       "  <thead>\n",
       "    <tr style=\"text-align: right;\">\n",
       "      <th></th>\n",
       "      <th>Tweets</th>\n",
       "    </tr>\n",
       "  </thead>\n",
       "  <tbody>\n",
       "    <tr>\n",
       "      <th>0</th>\n",
       "      <td>My double cuts guitarra guitars guitarstrings ...</td>\n",
       "    </tr>\n",
       "    <tr>\n",
       "      <th>1</th>\n",
       "      <td>RT pela m sica caminhos novos chegarei guitars...</td>\n",
       "    </tr>\n",
       "    <tr>\n",
       "      <th>2</th>\n",
       "      <td>pela m sica caminhos novos chegarei guitars gu...</td>\n",
       "    </tr>\n",
       "    <tr>\n",
       "      <th>3</th>\n",
       "      <td>Moe s Guitars amp Amps By appointment Hawthorn...</td>\n",
       "    </tr>\n",
       "    <tr>\n",
       "      <th>4</th>\n",
       "      <td>Well as its the legendary s birthday today we ...</td>\n",
       "    </tr>\n",
       "  </tbody>\n",
       "</table>\n",
       "</div>"
      ],
      "text/plain": [
       "                                              Tweets\n",
       "0  My double cuts guitarra guitars guitarstrings ...\n",
       "1  RT pela m sica caminhos novos chegarei guitars...\n",
       "2  pela m sica caminhos novos chegarei guitars gu...\n",
       "3  Moe s Guitars amp Amps By appointment Hawthorn...\n",
       "4  Well as its the legendary s birthday today we ..."
      ]
     },
     "execution_count": 5,
     "metadata": {},
     "output_type": "execute_result"
    }
   ],
   "source": [
    "tweets = api.search('Gibson guitars', count=200)\n",
    "\n",
    "# clean and convert tweets (type: tweepy.models.SearchResults) to DataFrame\n",
    "data = pd.DataFrame(data=[clean_tweet(tweet.text) for tweet in tweets], columns=['Tweets'])\n",
    "\n",
    "# display first 5 elements of the dataframe\n",
    "data.head(5)"
   ]
  },
  {
   "cell_type": "code",
   "execution_count": 6,
   "metadata": {},
   "outputs": [
    {
     "name": "stdout",
     "output_type": "stream",
     "text": [
      "id:                 1093146767938514944\n",
      "created_at:         2019-02-06 13:57:53\n",
      "source:             Twitter for iPhone\n",
      "favorite_count:     0\n",
      "retweet_count:      0\n",
      "geo:                None\n",
      "coordinates:        None\n",
      "entities:           {'hashtags': [{'text': 'guitarra', 'indices': [21, 30]}, {'text': 'guitars', 'indices': [31, 39]}, {'text': 'guitarstrings', 'indices': [40, 54]}, {'text': 'gibsons', 'indices': [55, 63]}, {'text': 'gibsonguitars', 'indices': [64, 78]}, {'text': 'gibsonguitar', 'indices': [79, 92]}, {'text': 'prsguitars', 'indices': [93, 104]}, {'text': 'prsguitar', 'indices': [105, 115]}], 'symbols': [], 'user_mentions': [], 'urls': [{'url': 'https://t.co/JoJ2xd5kzy', 'expanded_url': 'https://twitter.com/i/web/status/1093146767938514944', 'display_url': 'twitter.com/i/web/status/1…', 'indices': [117, 140]}]}\n"
     ]
    }
   ],
   "source": [
    "# show Meta Data from a single tweet\n",
    "print('id:                ', tweets[0].id)\n",
    "print('created_at:        ', tweets[0].created_at)\n",
    "print('source:            ', tweets[0].source)\n",
    "print('favorite_count:    ', tweets[0].favorite_count)\n",
    "print('retweet_count:     ', tweets[0].retweet_count)\n",
    "print('geo:               ', tweets[0].geo)\n",
    "print('coordinates:       ', tweets[0].coordinates)\n",
    "print('entities:          ', tweets[0].entities)"
   ]
  },
  {
   "cell_type": "markdown",
   "metadata": {},
   "source": [
    "### 6. ANALYSE TWEETS SENTIMENT"
   ]
  },
  {
   "cell_type": "code",
   "execution_count": 7,
   "metadata": {},
   "outputs": [
    {
     "data": {
      "text/html": [
       "<div>\n",
       "<style scoped>\n",
       "    .dataframe tbody tr th:only-of-type {\n",
       "        vertical-align: middle;\n",
       "    }\n",
       "\n",
       "    .dataframe tbody tr th {\n",
       "        vertical-align: top;\n",
       "    }\n",
       "\n",
       "    .dataframe thead th {\n",
       "        text-align: right;\n",
       "    }\n",
       "</style>\n",
       "<table border=\"1\" class=\"dataframe\">\n",
       "  <thead>\n",
       "    <tr style=\"text-align: right;\">\n",
       "      <th></th>\n",
       "      <th>Tweets</th>\n",
       "      <th>polarity</th>\n",
       "    </tr>\n",
       "  </thead>\n",
       "  <tbody>\n",
       "    <tr>\n",
       "      <th>0</th>\n",
       "      <td>My double cuts guitarra guitars guitarstrings ...</td>\n",
       "      <td>{'neg': 0.18, 'neu': 0.82, 'pos': 0.0, 'compou...</td>\n",
       "    </tr>\n",
       "    <tr>\n",
       "      <th>1</th>\n",
       "      <td>RT pela m sica caminhos novos chegarei guitars...</td>\n",
       "      <td>{'neg': 0.0, 'neu': 1.0, 'pos': 0.0, 'compound...</td>\n",
       "    </tr>\n",
       "    <tr>\n",
       "      <th>2</th>\n",
       "      <td>pela m sica caminhos novos chegarei guitars gu...</td>\n",
       "      <td>{'neg': 0.0, 'neu': 1.0, 'pos': 0.0, 'compound...</td>\n",
       "    </tr>\n",
       "    <tr>\n",
       "      <th>3</th>\n",
       "      <td>Moe s Guitars amp Amps By appointment Hawthorn...</td>\n",
       "      <td>{'neg': 0.0, 'neu': 0.862, 'pos': 0.138, 'comp...</td>\n",
       "    </tr>\n",
       "    <tr>\n",
       "      <th>4</th>\n",
       "      <td>Well as its the legendary s birthday today we ...</td>\n",
       "      <td>{'neg': 0.0, 'neu': 0.896, 'pos': 0.104, 'comp...</td>\n",
       "    </tr>\n",
       "  </tbody>\n",
       "</table>\n",
       "</div>"
      ],
      "text/plain": [
       "                                              Tweets  \\\n",
       "0  My double cuts guitarra guitars guitarstrings ...   \n",
       "1  RT pela m sica caminhos novos chegarei guitars...   \n",
       "2  pela m sica caminhos novos chegarei guitars gu...   \n",
       "3  Moe s Guitars amp Amps By appointment Hawthorn...   \n",
       "4  Well as its the legendary s birthday today we ...   \n",
       "\n",
       "                                            polarity  \n",
       "0  {'neg': 0.18, 'neu': 0.82, 'pos': 0.0, 'compou...  \n",
       "1  {'neg': 0.0, 'neu': 1.0, 'pos': 0.0, 'compound...  \n",
       "2  {'neg': 0.0, 'neu': 1.0, 'pos': 0.0, 'compound...  \n",
       "3  {'neg': 0.0, 'neu': 0.862, 'pos': 0.138, 'comp...  \n",
       "4  {'neg': 0.0, 'neu': 0.896, 'pos': 0.104, 'comp...  "
      ]
     },
     "execution_count": 7,
     "metadata": {},
     "output_type": "execute_result"
    }
   ],
   "source": [
    "sid = SentimentIntensityAnalyzer()\n",
    "\n",
    "list = []\n",
    "for index, row in data.iterrows():\n",
    "    ss = sid.polarity_scores(row['Tweets'])\n",
    "    list.append(ss)\n",
    "se = pd.Series(list)\n",
    "data['polarity'] = se.values\n",
    "\n",
    "# Display first 5 elements of the DataFrame:\n",
    "data.head()"
   ]
  },
  {
   "cell_type": "markdown",
   "metadata": {},
   "source": [
    "### 7. EXTRACT POLARITIES"
   ]
  },
  {
   "cell_type": "code",
   "execution_count": 8,
   "metadata": {},
   "outputs": [],
   "source": [
    "# extract each polarity value in a separate column\n",
    "polarity_types = ['neg', 'neu', 'pos', 'compound']\n",
    "\n",
    "# create empty columns\n",
    "for polar_type in polarity_types:\n",
    "    data[polar_type] = np.nan"
   ]
  },
  {
   "cell_type": "code",
   "execution_count": 9,
   "metadata": {},
   "outputs": [],
   "source": [
    "for i in range(len(data)):\n",
    "    for polar_type in polarity_types:\n",
    "        data[polar_type][i] = data['polarity'][i][polar_type]"
   ]
  },
  {
   "cell_type": "code",
   "execution_count": 10,
   "metadata": {},
   "outputs": [
    {
     "data": {
      "text/html": [
       "<div>\n",
       "<style scoped>\n",
       "    .dataframe tbody tr th:only-of-type {\n",
       "        vertical-align: middle;\n",
       "    }\n",
       "\n",
       "    .dataframe tbody tr th {\n",
       "        vertical-align: top;\n",
       "    }\n",
       "\n",
       "    .dataframe thead th {\n",
       "        text-align: right;\n",
       "    }\n",
       "</style>\n",
       "<table border=\"1\" class=\"dataframe\">\n",
       "  <thead>\n",
       "    <tr style=\"text-align: right;\">\n",
       "      <th></th>\n",
       "      <th>Tweets</th>\n",
       "      <th>polarity</th>\n",
       "      <th>neg</th>\n",
       "      <th>neu</th>\n",
       "      <th>pos</th>\n",
       "      <th>compound</th>\n",
       "    </tr>\n",
       "  </thead>\n",
       "  <tbody>\n",
       "    <tr>\n",
       "      <th>0</th>\n",
       "      <td>My double cuts guitarra guitars guitarstrings ...</td>\n",
       "      <td>{'neg': 0.18, 'neu': 0.82, 'pos': 0.0, 'compou...</td>\n",
       "      <td>0.18</td>\n",
       "      <td>0.820</td>\n",
       "      <td>0.000</td>\n",
       "      <td>-0.2960</td>\n",
       "    </tr>\n",
       "    <tr>\n",
       "      <th>1</th>\n",
       "      <td>RT pela m sica caminhos novos chegarei guitars...</td>\n",
       "      <td>{'neg': 0.0, 'neu': 1.0, 'pos': 0.0, 'compound...</td>\n",
       "      <td>0.00</td>\n",
       "      <td>1.000</td>\n",
       "      <td>0.000</td>\n",
       "      <td>0.0000</td>\n",
       "    </tr>\n",
       "    <tr>\n",
       "      <th>2</th>\n",
       "      <td>pela m sica caminhos novos chegarei guitars gu...</td>\n",
       "      <td>{'neg': 0.0, 'neu': 1.0, 'pos': 0.0, 'compound...</td>\n",
       "      <td>0.00</td>\n",
       "      <td>1.000</td>\n",
       "      <td>0.000</td>\n",
       "      <td>0.0000</td>\n",
       "    </tr>\n",
       "    <tr>\n",
       "      <th>3</th>\n",
       "      <td>Moe s Guitars amp Amps By appointment Hawthorn...</td>\n",
       "      <td>{'neg': 0.0, 'neu': 0.862, 'pos': 0.138, 'comp...</td>\n",
       "      <td>0.00</td>\n",
       "      <td>0.862</td>\n",
       "      <td>0.138</td>\n",
       "      <td>0.3400</td>\n",
       "    </tr>\n",
       "    <tr>\n",
       "      <th>4</th>\n",
       "      <td>Well as its the legendary s birthday today we ...</td>\n",
       "      <td>{'neg': 0.0, 'neu': 0.896, 'pos': 0.104, 'comp...</td>\n",
       "      <td>0.00</td>\n",
       "      <td>0.896</td>\n",
       "      <td>0.104</td>\n",
       "      <td>0.2732</td>\n",
       "    </tr>\n",
       "  </tbody>\n",
       "</table>\n",
       "</div>"
      ],
      "text/plain": [
       "                                              Tweets  \\\n",
       "0  My double cuts guitarra guitars guitarstrings ...   \n",
       "1  RT pela m sica caminhos novos chegarei guitars...   \n",
       "2  pela m sica caminhos novos chegarei guitars gu...   \n",
       "3  Moe s Guitars amp Amps By appointment Hawthorn...   \n",
       "4  Well as its the legendary s birthday today we ...   \n",
       "\n",
       "                                            polarity   neg    neu    pos  \\\n",
       "0  {'neg': 0.18, 'neu': 0.82, 'pos': 0.0, 'compou...  0.18  0.820  0.000   \n",
       "1  {'neg': 0.0, 'neu': 1.0, 'pos': 0.0, 'compound...  0.00  1.000  0.000   \n",
       "2  {'neg': 0.0, 'neu': 1.0, 'pos': 0.0, 'compound...  0.00  1.000  0.000   \n",
       "3  {'neg': 0.0, 'neu': 0.862, 'pos': 0.138, 'comp...  0.00  0.862  0.138   \n",
       "4  {'neg': 0.0, 'neu': 0.896, 'pos': 0.104, 'comp...  0.00  0.896  0.104   \n",
       "\n",
       "   compound  \n",
       "0   -0.2960  \n",
       "1    0.0000  \n",
       "2    0.0000  \n",
       "3    0.3400  \n",
       "4    0.2732  "
      ]
     },
     "execution_count": 10,
     "metadata": {},
     "output_type": "execute_result"
    }
   ],
   "source": [
    "data.head()"
   ]
  },
  {
   "cell_type": "markdown",
   "metadata": {},
   "source": [
    "### 8. VISUALIZE DATA"
   ]
  },
  {
   "cell_type": "code",
   "execution_count": 30,
   "metadata": {},
   "outputs": [
    {
     "data": {
      "text/plain": [
       "Text(0.5, 1.0, 'ALL TWEETS POLARITY')"
      ]
     },
     "execution_count": 30,
     "metadata": {},
     "output_type": "execute_result"
    },
    {
     "data": {
      "image/png": "[encoded data removed]",
      "text/plain": [
       "<Figure size 576x576 with 1 Axes>"
      ]
     },
     "metadata": {},
     "output_type": "display_data"
    }
   ],
   "source": [
    "data_score = pd.Series([data['neg'].sum(), data['neu'].sum(), data['pos'].sum(), data['compound'].sum()])\n",
    "\n",
    "# visualize\n",
    "fig, ax = plt.subplots(figsize=(8, 8), subplot_kw=dict(aspect=\"equal\"))\n",
    "tweets_polarity = data_score\n",
    "\n",
    "def func(pct, allvals):\n",
    "    absolute = int(pct/100.*np.sum(allvals))\n",
    "    return \"{:.1f}%\\n({:d})\".format(pct, absolute)\n",
    "\n",
    "wedges, texts, autotexts = ax.pie(data_score, autopct=lambda pct: func(pct, data_score), textprops=dict(color=\"w\"))\n",
    "names = ['Negative', 'Neutral', 'Positive', 'Compound']\n",
    "ax.legend(wedges, names, fontsize=13 , loc='best', title= 'Polarity', title_fontsize=15)\n",
    "plt.setp(autotexts, size=14, weight=\"bold\")\n",
    "\n",
    "ax.set_title('ALL TWEETS POLARITY', fontsize=20)"
   ]
  },
  {
   "cell_type": "code",
   "execution_count": 31,
   "metadata": {},
   "outputs": [
    {
     "name": "stdout",
     "output_type": "stream",
     "text": [
      "Most popular words in all tweets\n"
     ]
    },
    {
     "data": {
      "image/png": "[encoded data removed]",
      "text/plain": [
       "<PIL.Image.Image image mode=RGB size=400x200 at 0x7F563452FEF0>"
      ]
     },
     "execution_count": 31,
     "metadata": {},
     "output_type": "execute_result"
    }
   ],
   "source": [
    "import wordcloud\n",
    "\n",
    "# convert to lowercase\n",
    "data['lower_tweets'] = data['Tweets'].map(lambda x: x.lower())\n",
    "\n",
    "# join the different processed tweets together\n",
    "long_string = \" \".join(data['lower_tweets'])\n",
    "\n",
    "# create wordcloud subject\n",
    "wordcloud = wordcloud.WordCloud()\n",
    "\n",
    "# generate a word cloud\n",
    "wordcloud.generate(long_string)\n",
    "\n",
    "# Visualize the word cloud\n",
    "print('Most popular words in all tweets')\n",
    "wordcloud.to_image()"
   ]
  },
  {
   "cell_type": "code",
   "execution_count": 51,
   "metadata": {},
   "outputs": [
    {
     "name": "stdout",
     "output_type": "stream",
     "text": [
      "5 most frequent words in all tweets:\n",
      "gibson :  1.0\n",
      "guitars amp :  0.7\n",
      "new guitar :  0.65\n",
      "rt :  0.525\n",
      "amps new :  0.475\n"
     ]
    }
   ],
   "source": [
    "# show 5 most frequent words in all tweets:\n",
    "i = 0\n",
    "print('5 most frequent words in all tweets:')\n",
    "\n",
    "for key, value in wordcloud.words_.items():\n",
    "    if i < 5: print(key, ': ', value)\n",
    "    i += 1"
   ]
  }
 ],
 "metadata": {
  "kernelspec": {
   "display_name": "Python 3",
   "language": "python",
   "name": "python3"
  },
  "language_info": {
   "codemirror_mode": {
    "name": "ipython",
    "version": 3
   },
   "file_extension": ".py",
   "mimetype": "text/x-python",
   "name": "python",
   "nbconvert_exporter": "python",
   "pygments_lexer": "ipython3",
   "version": "3.6.7"
  }
 },
 "nbformat": 4,
 "nbformat_minor": 2
}
