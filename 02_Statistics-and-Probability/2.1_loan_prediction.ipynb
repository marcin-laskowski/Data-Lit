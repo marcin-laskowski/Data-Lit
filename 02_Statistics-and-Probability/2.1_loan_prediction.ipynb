{
 "cells": [
  {
   "cell_type": "markdown",
   "metadata": {},
   "source": [
    "# **LOAN DEFAULT PREDICTION** | LENDING CLUB"
   ]
  },
  {
   "cell_type": "markdown",
   "metadata": {},
   "source": [
    "### **1. IMPORT LIBRARIES**"
   ]
  },
  {
   "cell_type": "code",
   "execution_count": 540,
   "metadata": {},
   "outputs": [],
   "source": [
    "import pandas as pd                                       # data preprocessing\n",
    "import numpy as np                                        # matrix math\n",
    "from scipy import stats                                   # math operations\n",
    "\n",
    "import matplotlib.pyplot as plt                           # data visualization\n",
    "%matplotlib inline \n",
    "plt.rcParams['figure.figsize'] = (15,10)\n",
    "import seaborn as sns\n",
    "sns.set(style='whitegrid')\n",
    "\n",
    "import warnings                                           # ignore warnigns\n",
    "warnings.filterwarnings(\"ignore\")"
   ]
  },
  {
   "cell_type": "markdown",
   "metadata": {},
   "source": [
    "### **2. IMPORT DATASET** ([Lending Club data CSV file](https://www.lendingclub.com/info/download-data.action))"
   ]
  },
  {
   "cell_type": "code",
   "execution_count": 541,
   "metadata": {},
   "outputs": [],
   "source": [
    "# read data from CSV file\n",
    "df_loan = pd.read_csv('./data/lending_club_loans.csv', skiprows=1, low_memory=False) "
   ]
  },
  {
   "cell_type": "markdown",
   "metadata": {},
   "source": [
    "### **3. ANALYSE DATA**"
   ]
  },
  {
   "cell_type": "code",
   "execution_count": 542,
   "metadata": {},
   "outputs": [
    {
     "name": "stdout",
     "output_type": "stream",
     "text": [
      "<class 'pandas.core.frame.DataFrame'>\n",
      "RangeIndex: 42538 entries, 0 to 42537\n",
      "Columns: 115 entries, id to total_il_high_credit_limit\n",
      "dtypes: float64(90), object(25)\n",
      "memory usage: 37.3+ MB\n"
     ]
    }
   ],
   "source": [
    "# Print a concise summary of a DataFrame\n",
    "df_loan.info(verbose=False)"
   ]
  },
  {
   "cell_type": "code",
   "execution_count": 543,
   "metadata": {},
   "outputs": [
    {
     "data": {
      "text/html": [
       "<div>\n",
       "<style scoped>\n",
       "    .dataframe tbody tr th:only-of-type {\n",
       "        vertical-align: middle;\n",
       "    }\n",
       "\n",
       "    .dataframe tbody tr th {\n",
       "        vertical-align: top;\n",
       "    }\n",
       "\n",
       "    .dataframe thead th {\n",
       "        text-align: right;\n",
       "    }\n",
       "</style>\n",
       "<table border=\"1\" class=\"dataframe\">\n",
       "  <thead>\n",
       "    <tr style=\"text-align: right;\">\n",
       "      <th></th>\n",
       "      <th>id</th>\n",
       "      <th>member_id</th>\n",
       "      <th>loan_amnt</th>\n",
       "      <th>funded_amnt</th>\n",
       "      <th>funded_amnt_inv</th>\n",
       "      <th>term</th>\n",
       "      <th>int_rate</th>\n",
       "      <th>installment</th>\n",
       "      <th>grade</th>\n",
       "      <th>sub_grade</th>\n",
       "      <th>...</th>\n",
       "      <th>num_tl_90g_dpd_24m</th>\n",
       "      <th>num_tl_op_past_12m</th>\n",
       "      <th>pct_tl_nvr_dlq</th>\n",
       "      <th>percent_bc_gt_75</th>\n",
       "      <th>pub_rec_bankruptcies</th>\n",
       "      <th>tax_liens</th>\n",
       "      <th>tot_hi_cred_lim</th>\n",
       "      <th>total_bal_ex_mort</th>\n",
       "      <th>total_bc_limit</th>\n",
       "      <th>total_il_high_credit_limit</th>\n",
       "    </tr>\n",
       "  </thead>\n",
       "  <tbody>\n",
       "    <tr>\n",
       "      <th>0</th>\n",
       "      <td>1077501</td>\n",
       "      <td>1296599.0</td>\n",
       "      <td>5000.0</td>\n",
       "      <td>5000.0</td>\n",
       "      <td>4975.0</td>\n",
       "      <td>36 months</td>\n",
       "      <td>10.65%</td>\n",
       "      <td>162.87</td>\n",
       "      <td>B</td>\n",
       "      <td>B2</td>\n",
       "      <td>...</td>\n",
       "      <td>NaN</td>\n",
       "      <td>NaN</td>\n",
       "      <td>NaN</td>\n",
       "      <td>NaN</td>\n",
       "      <td>0.0</td>\n",
       "      <td>0.0</td>\n",
       "      <td>NaN</td>\n",
       "      <td>NaN</td>\n",
       "      <td>NaN</td>\n",
       "      <td>NaN</td>\n",
       "    </tr>\n",
       "    <tr>\n",
       "      <th>1</th>\n",
       "      <td>1077430</td>\n",
       "      <td>1314167.0</td>\n",
       "      <td>2500.0</td>\n",
       "      <td>2500.0</td>\n",
       "      <td>2500.0</td>\n",
       "      <td>60 months</td>\n",
       "      <td>15.27%</td>\n",
       "      <td>59.83</td>\n",
       "      <td>C</td>\n",
       "      <td>C4</td>\n",
       "      <td>...</td>\n",
       "      <td>NaN</td>\n",
       "      <td>NaN</td>\n",
       "      <td>NaN</td>\n",
       "      <td>NaN</td>\n",
       "      <td>0.0</td>\n",
       "      <td>0.0</td>\n",
       "      <td>NaN</td>\n",
       "      <td>NaN</td>\n",
       "      <td>NaN</td>\n",
       "      <td>NaN</td>\n",
       "    </tr>\n",
       "    <tr>\n",
       "      <th>2</th>\n",
       "      <td>1077175</td>\n",
       "      <td>1313524.0</td>\n",
       "      <td>2400.0</td>\n",
       "      <td>2400.0</td>\n",
       "      <td>2400.0</td>\n",
       "      <td>36 months</td>\n",
       "      <td>15.96%</td>\n",
       "      <td>84.33</td>\n",
       "      <td>C</td>\n",
       "      <td>C5</td>\n",
       "      <td>...</td>\n",
       "      <td>NaN</td>\n",
       "      <td>NaN</td>\n",
       "      <td>NaN</td>\n",
       "      <td>NaN</td>\n",
       "      <td>0.0</td>\n",
       "      <td>0.0</td>\n",
       "      <td>NaN</td>\n",
       "      <td>NaN</td>\n",
       "      <td>NaN</td>\n",
       "      <td>NaN</td>\n",
       "    </tr>\n",
       "    <tr>\n",
       "      <th>3</th>\n",
       "      <td>1076863</td>\n",
       "      <td>1277178.0</td>\n",
       "      <td>10000.0</td>\n",
       "      <td>10000.0</td>\n",
       "      <td>10000.0</td>\n",
       "      <td>36 months</td>\n",
       "      <td>13.49%</td>\n",
       "      <td>339.31</td>\n",
       "      <td>C</td>\n",
       "      <td>C1</td>\n",
       "      <td>...</td>\n",
       "      <td>NaN</td>\n",
       "      <td>NaN</td>\n",
       "      <td>NaN</td>\n",
       "      <td>NaN</td>\n",
       "      <td>0.0</td>\n",
       "      <td>0.0</td>\n",
       "      <td>NaN</td>\n",
       "      <td>NaN</td>\n",
       "      <td>NaN</td>\n",
       "      <td>NaN</td>\n",
       "    </tr>\n",
       "    <tr>\n",
       "      <th>4</th>\n",
       "      <td>1075358</td>\n",
       "      <td>1311748.0</td>\n",
       "      <td>3000.0</td>\n",
       "      <td>3000.0</td>\n",
       "      <td>3000.0</td>\n",
       "      <td>60 months</td>\n",
       "      <td>12.69%</td>\n",
       "      <td>67.79</td>\n",
       "      <td>B</td>\n",
       "      <td>B5</td>\n",
       "      <td>...</td>\n",
       "      <td>NaN</td>\n",
       "      <td>NaN</td>\n",
       "      <td>NaN</td>\n",
       "      <td>NaN</td>\n",
       "      <td>0.0</td>\n",
       "      <td>0.0</td>\n",
       "      <td>NaN</td>\n",
       "      <td>NaN</td>\n",
       "      <td>NaN</td>\n",
       "      <td>NaN</td>\n",
       "    </tr>\n",
       "  </tbody>\n",
       "</table>\n",
       "<p>5 rows × 115 columns</p>\n",
       "</div>"
      ],
      "text/plain": [
       "        id  member_id  loan_amnt  funded_amnt  funded_amnt_inv        term  \\\n",
       "0  1077501  1296599.0     5000.0       5000.0           4975.0   36 months   \n",
       "1  1077430  1314167.0     2500.0       2500.0           2500.0   60 months   \n",
       "2  1077175  1313524.0     2400.0       2400.0           2400.0   36 months   \n",
       "3  1076863  1277178.0    10000.0      10000.0          10000.0   36 months   \n",
       "4  1075358  1311748.0     3000.0       3000.0           3000.0   60 months   \n",
       "\n",
       "  int_rate  installment grade sub_grade            ...              \\\n",
       "0   10.65%       162.87     B        B2            ...               \n",
       "1   15.27%        59.83     C        C4            ...               \n",
       "2   15.96%        84.33     C        C5            ...               \n",
       "3   13.49%       339.31     C        C1            ...               \n",
       "4   12.69%        67.79     B        B5            ...               \n",
       "\n",
       "  num_tl_90g_dpd_24m num_tl_op_past_12m pct_tl_nvr_dlq  percent_bc_gt_75  \\\n",
       "0                NaN                NaN            NaN               NaN   \n",
       "1                NaN                NaN            NaN               NaN   \n",
       "2                NaN                NaN            NaN               NaN   \n",
       "3                NaN                NaN            NaN               NaN   \n",
       "4                NaN                NaN            NaN               NaN   \n",
       "\n",
       "  pub_rec_bankruptcies tax_liens tot_hi_cred_lim total_bal_ex_mort  \\\n",
       "0                  0.0       0.0             NaN               NaN   \n",
       "1                  0.0       0.0             NaN               NaN   \n",
       "2                  0.0       0.0             NaN               NaN   \n",
       "3                  0.0       0.0             NaN               NaN   \n",
       "4                  0.0       0.0             NaN               NaN   \n",
       "\n",
       "  total_bc_limit total_il_high_credit_limit  \n",
       "0            NaN                        NaN  \n",
       "1            NaN                        NaN  \n",
       "2            NaN                        NaN  \n",
       "3            NaN                        NaN  \n",
       "4            NaN                        NaN  \n",
       "\n",
       "[5 rows x 115 columns]"
      ]
     },
     "execution_count": 543,
     "metadata": {},
     "output_type": "execute_result"
    }
   ],
   "source": [
    "# Return the first five rows.\n",
    "df_loan.head()"
   ]
  },
  {
   "cell_type": "markdown",
   "metadata": {},
   "source": [
    "### **4. PREPROCESS DATA**"
   ]
  },
  {
   "cell_type": "markdown",
   "metadata": {},
   "source": [
    "#### 4.1 REMOVE MISSING VALUES"
   ]
  },
  {
   "cell_type": "code",
   "execution_count": 544,
   "metadata": {},
   "outputs": [],
   "source": [
    "# Drop any column with more than 50% of missing values\n",
    "df_loan = df_loan.dropna(thresh=(len(df_loan)/2), axis=1)"
   ]
  },
  {
   "cell_type": "code",
   "execution_count": 545,
   "metadata": {},
   "outputs": [],
   "source": [
    "# delete rows with missing values in 'member_id' and 'delinq_2yrs' columns\n",
    "drop_rows = df_loan[df_loan['delinq_2yrs'].isnull()].index.tolist()\n",
    "df_loan = df_loan.drop(drop_rows, axis=0)"
   ]
  },
  {
   "cell_type": "code",
   "execution_count": 546,
   "metadata": {},
   "outputs": [
    {
     "data": {
      "text/plain": [
       "0"
      ]
     },
     "execution_count": 546,
     "metadata": {},
     "output_type": "execute_result"
    }
   ],
   "source": [
    "# Drop all columns with some missing values\n",
    "df_loan = df_loan.dropna(axis=1)\n",
    "\n",
    "# number of missing values\n",
    "df_loan.isnull().sum().sum()"
   ]
  },
  {
   "cell_type": "markdown",
   "metadata": {},
   "source": [
    "#### 4.2 REMOVE OUTLIERS"
   ]
  },
  {
   "cell_type": "code",
   "execution_count": 547,
   "metadata": {},
   "outputs": [],
   "source": [
    "# keep only the ones that are within +3 to -3 standard deviations in the column.\n",
    "for column_name in df_loan.columns.tolist():\n",
    "    if df_loan[column_name].dtype == np.float64:\n",
    "        df_loan[column_name] = df_loan[column_name][np.abs(df_loan[column_name]-df_loan[column_name].mean()) <= (3*df_loan[column_name].std())]"
   ]
  },
  {
   "cell_type": "code",
   "execution_count": 548,
   "metadata": {},
   "outputs": [
    {
     "data": {
      "text/plain": [
       "0"
      ]
     },
     "execution_count": 548,
     "metadata": {},
     "output_type": "execute_result"
    }
   ],
   "source": [
    "# Drop all columns with some missing values\n",
    "df_loan = df_loan.dropna(axis=0)\n",
    "\n",
    "# number of missing values\n",
    "df_loan.isnull().sum().sum()"
   ]
  },
  {
   "cell_type": "markdown",
   "metadata": {},
   "source": [
    "#### 4.3 MODIFY CATEGORICAL DATA"
   ]
  },
  {
   "cell_type": "code",
   "execution_count": 549,
   "metadata": {},
   "outputs": [
    {
     "data": {
      "text/html": [
       "<div>\n",
       "<style scoped>\n",
       "    .dataframe tbody tr th:only-of-type {\n",
       "        vertical-align: middle;\n",
       "    }\n",
       "\n",
       "    .dataframe tbody tr th {\n",
       "        vertical-align: top;\n",
       "    }\n",
       "\n",
       "    .dataframe thead th {\n",
       "        text-align: right;\n",
       "    }\n",
       "</style>\n",
       "<table border=\"1\" class=\"dataframe\">\n",
       "  <thead>\n",
       "    <tr style=\"text-align: right;\">\n",
       "      <th></th>\n",
       "      <th>id</th>\n",
       "      <th>term</th>\n",
       "      <th>int_rate</th>\n",
       "      <th>grade</th>\n",
       "      <th>sub_grade</th>\n",
       "      <th>home_ownership</th>\n",
       "      <th>verification_status</th>\n",
       "      <th>issue_d</th>\n",
       "      <th>loan_status</th>\n",
       "      <th>pymnt_plan</th>\n",
       "      <th>url</th>\n",
       "      <th>purpose</th>\n",
       "      <th>zip_code</th>\n",
       "      <th>addr_state</th>\n",
       "      <th>earliest_cr_line</th>\n",
       "      <th>initial_list_status</th>\n",
       "      <th>application_type</th>\n",
       "    </tr>\n",
       "  </thead>\n",
       "  <tbody>\n",
       "    <tr>\n",
       "      <th>0</th>\n",
       "      <td>1077501</td>\n",
       "      <td>36 months</td>\n",
       "      <td>10.65%</td>\n",
       "      <td>B</td>\n",
       "      <td>B2</td>\n",
       "      <td>RENT</td>\n",
       "      <td>Verified</td>\n",
       "      <td>Dec-2011</td>\n",
       "      <td>Fully Paid</td>\n",
       "      <td>n</td>\n",
       "      <td>https://lendingclub.com/browse/loanDetail.acti...</td>\n",
       "      <td>credit_card</td>\n",
       "      <td>860xx</td>\n",
       "      <td>AZ</td>\n",
       "      <td>Jan-1985</td>\n",
       "      <td>f</td>\n",
       "      <td>INDIVIDUAL</td>\n",
       "    </tr>\n",
       "    <tr>\n",
       "      <th>2</th>\n",
       "      <td>1077175</td>\n",
       "      <td>36 months</td>\n",
       "      <td>15.96%</td>\n",
       "      <td>C</td>\n",
       "      <td>C5</td>\n",
       "      <td>RENT</td>\n",
       "      <td>Not Verified</td>\n",
       "      <td>Dec-2011</td>\n",
       "      <td>Fully Paid</td>\n",
       "      <td>n</td>\n",
       "      <td>https://lendingclub.com/browse/loanDetail.acti...</td>\n",
       "      <td>small_business</td>\n",
       "      <td>606xx</td>\n",
       "      <td>IL</td>\n",
       "      <td>Nov-2001</td>\n",
       "      <td>f</td>\n",
       "      <td>INDIVIDUAL</td>\n",
       "    </tr>\n",
       "    <tr>\n",
       "      <th>3</th>\n",
       "      <td>1076863</td>\n",
       "      <td>36 months</td>\n",
       "      <td>13.49%</td>\n",
       "      <td>C</td>\n",
       "      <td>C1</td>\n",
       "      <td>RENT</td>\n",
       "      <td>Source Verified</td>\n",
       "      <td>Dec-2011</td>\n",
       "      <td>Fully Paid</td>\n",
       "      <td>n</td>\n",
       "      <td>https://lendingclub.com/browse/loanDetail.acti...</td>\n",
       "      <td>other</td>\n",
       "      <td>917xx</td>\n",
       "      <td>CA</td>\n",
       "      <td>Feb-1996</td>\n",
       "      <td>f</td>\n",
       "      <td>INDIVIDUAL</td>\n",
       "    </tr>\n",
       "    <tr>\n",
       "      <th>4</th>\n",
       "      <td>1075358</td>\n",
       "      <td>60 months</td>\n",
       "      <td>12.69%</td>\n",
       "      <td>B</td>\n",
       "      <td>B5</td>\n",
       "      <td>RENT</td>\n",
       "      <td>Source Verified</td>\n",
       "      <td>Dec-2011</td>\n",
       "      <td>Current</td>\n",
       "      <td>n</td>\n",
       "      <td>https://lendingclub.com/browse/loanDetail.acti...</td>\n",
       "      <td>other</td>\n",
       "      <td>972xx</td>\n",
       "      <td>OR</td>\n",
       "      <td>Jan-1996</td>\n",
       "      <td>f</td>\n",
       "      <td>INDIVIDUAL</td>\n",
       "    </tr>\n",
       "    <tr>\n",
       "      <th>5</th>\n",
       "      <td>1075269</td>\n",
       "      <td>36 months</td>\n",
       "      <td>7.90%</td>\n",
       "      <td>A</td>\n",
       "      <td>A4</td>\n",
       "      <td>RENT</td>\n",
       "      <td>Source Verified</td>\n",
       "      <td>Dec-2011</td>\n",
       "      <td>Fully Paid</td>\n",
       "      <td>n</td>\n",
       "      <td>https://lendingclub.com/browse/loanDetail.acti...</td>\n",
       "      <td>wedding</td>\n",
       "      <td>852xx</td>\n",
       "      <td>AZ</td>\n",
       "      <td>Nov-2004</td>\n",
       "      <td>f</td>\n",
       "      <td>INDIVIDUAL</td>\n",
       "    </tr>\n",
       "  </tbody>\n",
       "</table>\n",
       "</div>"
      ],
      "text/plain": [
       "        id        term int_rate grade sub_grade home_ownership  \\\n",
       "0  1077501   36 months   10.65%     B        B2           RENT   \n",
       "2  1077175   36 months   15.96%     C        C5           RENT   \n",
       "3  1076863   36 months   13.49%     C        C1           RENT   \n",
       "4  1075358   60 months   12.69%     B        B5           RENT   \n",
       "5  1075269   36 months    7.90%     A        A4           RENT   \n",
       "\n",
       "  verification_status   issue_d loan_status pymnt_plan  \\\n",
       "0            Verified  Dec-2011  Fully Paid          n   \n",
       "2        Not Verified  Dec-2011  Fully Paid          n   \n",
       "3     Source Verified  Dec-2011  Fully Paid          n   \n",
       "4     Source Verified  Dec-2011     Current          n   \n",
       "5     Source Verified  Dec-2011  Fully Paid          n   \n",
       "\n",
       "                                                 url         purpose zip_code  \\\n",
       "0  https://lendingclub.com/browse/loanDetail.acti...     credit_card    860xx   \n",
       "2  https://lendingclub.com/browse/loanDetail.acti...  small_business    606xx   \n",
       "3  https://lendingclub.com/browse/loanDetail.acti...           other    917xx   \n",
       "4  https://lendingclub.com/browse/loanDetail.acti...           other    972xx   \n",
       "5  https://lendingclub.com/browse/loanDetail.acti...         wedding    852xx   \n",
       "\n",
       "  addr_state earliest_cr_line initial_list_status application_type  \n",
       "0         AZ         Jan-1985                   f       INDIVIDUAL  \n",
       "2         IL         Nov-2001                   f       INDIVIDUAL  \n",
       "3         CA         Feb-1996                   f       INDIVIDUAL  \n",
       "4         OR         Jan-1996                   f       INDIVIDUAL  \n",
       "5         AZ         Nov-2004                   f       INDIVIDUAL  "
      ]
     },
     "execution_count": 549,
     "metadata": {},
     "output_type": "execute_result"
    }
   ],
   "source": [
    "#  visualize categorical columns\n",
    "df_loan.select_dtypes(include=['object']).head()"
   ]
  },
  {
   "cell_type": "code",
   "execution_count": 550,
   "metadata": {},
   "outputs": [],
   "source": [
    "# convert 'id' column from string object to number\n",
    "df_loan['id'] = df_loan['id'].astype(int)\n",
    "\n",
    "# remove word: months from column 'term'\n",
    "df_loan['term'] = df_loan['term'].map(lambda x: x.rstrip(' months')).astype(int)\n",
    "\n",
    "# remove % from column 'int_rate'\n",
    "df_loan['int_rate'] = df_loan['int_rate'].map(lambda x: x.lstrip(' ').rstrip('%')).astype('float64')"
   ]
  },
  {
   "cell_type": "code",
   "execution_count": 551,
   "metadata": {},
   "outputs": [
    {
     "name": "stdout",
     "output_type": "stream",
     "text": [
      "Unique values of grade: ['B' 'C' 'A' 'E' 'D' 'F' 'G']\n",
      "\n",
      "Unique values of sub_grade: ['B2' 'C5' 'C1' 'B5' 'A4' 'E1' 'C3' 'B1' 'D1' 'C4' 'A1' 'B4' 'B3' 'C2'\n",
      " 'A3' 'A5' 'D5' 'D2' 'A2' 'E4' 'D3' 'F2' 'E3' 'D4' 'F1' 'F3' 'E5' 'E2'\n",
      " 'F5' 'F4' 'G2' 'G3' 'G1' 'G4' 'G5']\n",
      "\n",
      "Unique values of home_ownership: ['RENT' 'OWN' 'MORTGAGE' 'OTHER' 'NONE']\n",
      "\n",
      "Unique values of verification_status: ['Verified' 'Not Verified' 'Source Verified']\n",
      "\n",
      "Unique values of pymnt_plan: ['n']\n",
      "\n",
      "Unique values of purpose: ['credit_card' 'small_business' 'other' 'wedding' 'debt_consolidation'\n",
      " 'car' 'home_improvement' 'major_purchase' 'moving' 'medical' 'vacation'\n",
      " 'house' 'renewable_energy' 'educational']\n",
      "\n",
      "Unique values of addr_state: ['AZ' 'IL' 'CA' 'OR' 'NC' 'TX' 'VA' 'MO' 'CT' 'FL' 'NY' 'MN' 'KY' 'OH'\n",
      " 'SC' 'NJ' 'PA' 'RI' 'LA' 'MA' 'WA' 'WI' 'AL' 'KS' 'NV' 'MD' 'GA' 'WV'\n",
      " 'VT' 'MI' 'DC' 'SD' 'NH' 'AR' 'NM' 'CO' 'MT' 'HI' 'AK' 'UT' 'OK' 'WY'\n",
      " 'DE' 'MS' 'IA' 'TN' 'NE' 'ID' 'IN' 'ME']\n",
      "\n",
      "Unique values of initial_list_status: ['f']\n",
      "\n",
      "Unique values of application_type: ['INDIVIDUAL']\n",
      "\n"
     ]
    }
   ],
   "source": [
    "# print unique values of non-numeric columns\n",
    "print('Unique values of grade: {}\\n'.format(df_loan['grade'].unique()))\n",
    "print('Unique values of sub_grade: {}\\n'.format(df_loan['sub_grade'].unique()))\n",
    "print('Unique values of home_ownership: {}\\n'.format(df_loan['home_ownership'].unique()))\n",
    "print('Unique values of verification_status: {}\\n'.format(df_loan['verification_status'].unique()))\n",
    "print('Unique values of pymnt_plan: {}\\n'.format(df_loan['pymnt_plan'].unique()))\n",
    "print('Unique values of purpose: {}\\n'.format(df_loan['purpose'].unique()))\n",
    "print('Unique values of addr_state: {}\\n'.format(df_loan['addr_state'].unique()))\n",
    "print('Unique values of initial_list_status: {}\\n'.format(df_loan['initial_list_status'].unique()))\n",
    "print('Unique values of application_type: {}\\n'.format(df_loan['application_type'].unique()))"
   ]
  },
  {
   "cell_type": "code",
   "execution_count": 552,
   "metadata": {},
   "outputs": [],
   "source": [
    "# Convert all above columns to categorical data\n",
    "df_loan['grade'] = df_loan['grade'].astype('category', categories=['G', 'F', 'E', 'D', 'C', 'B', 'A'], ordered=True)\n",
    "df_loan['sub_grade'] = df_loan['sub_grade'].astype('category', categories=['G5', 'G4', 'G3', 'G2', 'G1', 'F5', 'F4', 'F3', 'F2', 'F1', 'E5', 'E4', 'E3', 'E2', 'E1', 'D5', 'D4', 'D3', 'D2', 'D1', 'C5', 'C4', 'C3', 'C2', 'C1', 'B5', 'B4', 'B3', 'B2', 'B1', 'A5', 'A4', 'A3', 'A2', 'A1'], ordered=True)\n",
    "df_loan['home_ownership'] = df_loan['home_ownership'].astype('category', categories=df_loan['home_ownership'].unique(), ordered=False)\n",
    "df_loan['verification_status'] = df_loan['verification_status'].astype('category', categories=['Verified', 'Source Verified', 'Not Verified'], ordered=True)\n",
    "df_loan['pymnt_plan'] = df_loan['pymnt_plan'].astype('category', categories=['n', 'y'], ordered=True)\n",
    "df_loan['purpose'] = df_loan['purpose'].astype('category', categories=df_loan['purpose'].unique(), ordered=False)\n",
    "df_loan['addr_state'] = df_loan['addr_state'].astype('category', categories=df_loan['addr_state'].unique(), ordered=False)\n",
    "#df_loan['loan_status'] = df_loan['loan_status'].astype('category', categories=df_loan['loan_status'].unique(), ordered=False)"
   ]
  },
  {
   "cell_type": "code",
   "execution_count": 553,
   "metadata": {},
   "outputs": [],
   "source": [
    "# drop not necessary columns\n",
    "df_loan = df_loan.drop(['initial_list_status', 'application_type', 'url', 'zip_code', 'earliest_cr_line'], axis=1)"
   ]
  },
  {
   "cell_type": "markdown",
   "metadata": {},
   "source": [
    "#### 4.4 CONVERT TO DATETIME"
   ]
  },
  {
   "cell_type": "code",
   "execution_count": 554,
   "metadata": {},
   "outputs": [],
   "source": [
    "# convert to datetime\n",
    "df_loan['issue_d'] = pd.to_datetime(df_loan['issue_d'])\n",
    "df_loan['issue_d_year'] = df_loan['issue_d'].dt.year\n",
    "df_loan['issue_d_month'] = df_loan['issue_d'].dt.month\n",
    "df_loan['issue_d_year_month'] = df_loan['issue_d'].dt.to_period('M')"
   ]
  },
  {
   "cell_type": "code",
   "execution_count": 555,
   "metadata": {},
   "outputs": [
    {
     "name": "stdout",
     "output_type": "stream",
     "text": [
      "<class 'pandas.core.frame.DataFrame'>\n",
      "Int64Index: 33134 entries, 0 to 42514\n",
      "Data columns (total 45 columns):\n",
      "id                         33134 non-null int64\n",
      "member_id                  33134 non-null float64\n",
      "loan_amnt                  33134 non-null float64\n",
      "funded_amnt                33134 non-null float64\n",
      "funded_amnt_inv            33134 non-null float64\n",
      "term                       33134 non-null int64\n",
      "int_rate                   33134 non-null float64\n",
      "installment                33134 non-null float64\n",
      "grade                      33134 non-null category\n",
      "sub_grade                  33134 non-null category\n",
      "home_ownership             33134 non-null category\n",
      "annual_inc                 33134 non-null float64\n",
      "verification_status        33134 non-null category\n",
      "issue_d                    33134 non-null datetime64[ns]\n",
      "loan_status                33134 non-null object\n",
      "pymnt_plan                 33134 non-null category\n",
      "purpose                    33134 non-null category\n",
      "addr_state                 33134 non-null category\n",
      "dti                        33134 non-null float64\n",
      "delinq_2yrs                33134 non-null float64\n",
      "fico_range_low             33134 non-null float64\n",
      "fico_range_high            33134 non-null float64\n",
      "inq_last_6mths             33134 non-null float64\n",
      "open_acc                   33134 non-null float64\n",
      "pub_rec                    33134 non-null float64\n",
      "revol_bal                  33134 non-null float64\n",
      "total_acc                  33134 non-null float64\n",
      "out_prncp                  33134 non-null float64\n",
      "out_prncp_inv              33134 non-null float64\n",
      "total_pymnt                33134 non-null float64\n",
      "total_pymnt_inv            33134 non-null float64\n",
      "total_rec_prncp            33134 non-null float64\n",
      "total_rec_int              33134 non-null float64\n",
      "total_rec_late_fee         33134 non-null float64\n",
      "recoveries                 33134 non-null float64\n",
      "collection_recovery_fee    33134 non-null float64\n",
      "last_pymnt_amnt            33134 non-null float64\n",
      "last_fico_range_high       33134 non-null float64\n",
      "last_fico_range_low        33134 non-null float64\n",
      "policy_code                33134 non-null float64\n",
      "acc_now_delinq             33134 non-null float64\n",
      "delinq_amnt                33134 non-null float64\n",
      "issue_d_year               33134 non-null int64\n",
      "issue_d_month              33134 non-null int64\n",
      "issue_d_year_month         33134 non-null object\n",
      "dtypes: category(7), datetime64[ns](1), float64(31), int64(4), object(2)\n",
      "memory usage: 10.1+ MB\n"
     ]
    }
   ],
   "source": [
    "df_loan.info()"
   ]
  },
  {
   "cell_type": "markdown",
   "metadata": {},
   "source": [
    "### **5. STATISTICAL FEATURES**\n",
    "\n",
    "It include concepts such as bias, variace, mean, median and many others."
   ]
  },
  {
   "cell_type": "code",
   "execution_count": 556,
   "metadata": {},
   "outputs": [],
   "source": [
    "df_loan_11 = df_loan[df_loan['issue_d_year'] == 2011]\n",
    "df_loan_10 = df_loan[df_loan['issue_d_year'] == 2010]\n",
    "df_loan_09 = df_loan[df_loan['issue_d_year'] == 2009]\n",
    "df_loan_08 = df_loan[df_loan['issue_d_year'] == 2008]\n",
    "df_loan_07 = df_loan[df_loan['issue_d_year'] == 2007]"
   ]
  },
  {
   "cell_type": "code",
   "execution_count": 557,
   "metadata": {},
   "outputs": [
    {
     "data": {
      "text/html": [
       "<div>\n",
       "<style scoped>\n",
       "    .dataframe tbody tr th:only-of-type {\n",
       "        vertical-align: middle;\n",
       "    }\n",
       "\n",
       "    .dataframe tbody tr th {\n",
       "        vertical-align: top;\n",
       "    }\n",
       "\n",
       "    .dataframe thead th {\n",
       "        text-align: right;\n",
       "    }\n",
       "</style>\n",
       "<table border=\"1\" class=\"dataframe\">\n",
       "  <thead>\n",
       "    <tr style=\"text-align: right;\">\n",
       "      <th></th>\n",
       "      <th>id</th>\n",
       "      <th>member_id</th>\n",
       "      <th>loan_amnt</th>\n",
       "      <th>funded_amnt</th>\n",
       "      <th>funded_amnt_inv</th>\n",
       "      <th>term</th>\n",
       "      <th>int_rate</th>\n",
       "      <th>installment</th>\n",
       "      <th>annual_inc</th>\n",
       "      <th>dti</th>\n",
       "      <th>...</th>\n",
       "      <th>recoveries</th>\n",
       "      <th>collection_recovery_fee</th>\n",
       "      <th>last_pymnt_amnt</th>\n",
       "      <th>last_fico_range_high</th>\n",
       "      <th>last_fico_range_low</th>\n",
       "      <th>policy_code</th>\n",
       "      <th>acc_now_delinq</th>\n",
       "      <th>delinq_amnt</th>\n",
       "      <th>issue_d_year</th>\n",
       "      <th>issue_d_month</th>\n",
       "    </tr>\n",
       "  </thead>\n",
       "  <tbody>\n",
       "    <tr>\n",
       "      <th>count</th>\n",
       "      <td>3.313400e+04</td>\n",
       "      <td>3.313400e+04</td>\n",
       "      <td>33134.000000</td>\n",
       "      <td>33134.000000</td>\n",
       "      <td>33134.000000</td>\n",
       "      <td>33134.000000</td>\n",
       "      <td>33134.000000</td>\n",
       "      <td>33134.000000</td>\n",
       "      <td>33134.000000</td>\n",
       "      <td>33134.000000</td>\n",
       "      <td>...</td>\n",
       "      <td>33134.000000</td>\n",
       "      <td>33134.000000</td>\n",
       "      <td>33134.000000</td>\n",
       "      <td>33134.000000</td>\n",
       "      <td>33134.000000</td>\n",
       "      <td>33134.0</td>\n",
       "      <td>33134.0</td>\n",
       "      <td>33134.0</td>\n",
       "      <td>33134.000000</td>\n",
       "      <td>33134.000000</td>\n",
       "    </tr>\n",
       "    <tr>\n",
       "      <th>mean</th>\n",
       "      <td>6.639692e+05</td>\n",
       "      <td>8.258805e+05</td>\n",
       "      <td>10003.149333</td>\n",
       "      <td>9767.132704</td>\n",
       "      <td>9216.703607</td>\n",
       "      <td>41.318766</td>\n",
       "      <td>11.555758</td>\n",
       "      <td>294.470614</td>\n",
       "      <td>62675.164872</td>\n",
       "      <td>13.313258</td>\n",
       "      <td>...</td>\n",
       "      <td>35.594037</td>\n",
       "      <td>2.376604</td>\n",
       "      <td>2176.794300</td>\n",
       "      <td>697.817408</td>\n",
       "      <td>693.817227</td>\n",
       "      <td>1.0</td>\n",
       "      <td>0.0</td>\n",
       "      <td>0.0</td>\n",
       "      <td>2010.244794</td>\n",
       "      <td>7.093167</td>\n",
       "    </tr>\n",
       "    <tr>\n",
       "      <th>std</th>\n",
       "      <td>2.140413e+05</td>\n",
       "      <td>2.724007e+05</td>\n",
       "      <td>6090.148651</td>\n",
       "      <td>5848.069697</td>\n",
       "      <td>5837.134528</td>\n",
       "      <td>9.968155</td>\n",
       "      <td>3.508520</td>\n",
       "      <td>177.929022</td>\n",
       "      <td>33894.914739</td>\n",
       "      <td>6.730399</td>\n",
       "      <td>...</td>\n",
       "      <td>173.026342</td>\n",
       "      <td>21.152404</td>\n",
       "      <td>3211.287367</td>\n",
       "      <td>73.396411</td>\n",
       "      <td>73.396036</td>\n",
       "      <td>0.0</td>\n",
       "      <td>0.0</td>\n",
       "      <td>0.0</td>\n",
       "      <td>0.933219</td>\n",
       "      <td>3.403309</td>\n",
       "    </tr>\n",
       "    <tr>\n",
       "      <th>min</th>\n",
       "      <td>5.473400e+04</td>\n",
       "      <td>7.069400e+04</td>\n",
       "      <td>500.000000</td>\n",
       "      <td>500.000000</td>\n",
       "      <td>0.000000</td>\n",
       "      <td>36.000000</td>\n",
       "      <td>5.420000</td>\n",
       "      <td>15.670000</td>\n",
       "      <td>1896.000000</td>\n",
       "      <td>0.000000</td>\n",
       "      <td>...</td>\n",
       "      <td>0.000000</td>\n",
       "      <td>0.000000</td>\n",
       "      <td>0.000000</td>\n",
       "      <td>504.000000</td>\n",
       "      <td>500.000000</td>\n",
       "      <td>1.0</td>\n",
       "      <td>0.0</td>\n",
       "      <td>0.0</td>\n",
       "      <td>2007.000000</td>\n",
       "      <td>1.000000</td>\n",
       "    </tr>\n",
       "    <tr>\n",
       "      <th>25%</th>\n",
       "      <td>5.007332e+05</td>\n",
       "      <td>6.424562e+05</td>\n",
       "      <td>5000.000000</td>\n",
       "      <td>5000.000000</td>\n",
       "      <td>4875.000000</td>\n",
       "      <td>36.000000</td>\n",
       "      <td>8.590000</td>\n",
       "      <td>160.847500</td>\n",
       "      <td>40000.000000</td>\n",
       "      <td>8.090000</td>\n",
       "      <td>...</td>\n",
       "      <td>0.000000</td>\n",
       "      <td>0.000000</td>\n",
       "      <td>211.317500</td>\n",
       "      <td>654.000000</td>\n",
       "      <td>650.000000</td>\n",
       "      <td>1.0</td>\n",
       "      <td>0.0</td>\n",
       "      <td>0.0</td>\n",
       "      <td>2010.000000</td>\n",
       "      <td>4.000000</td>\n",
       "    </tr>\n",
       "    <tr>\n",
       "      <th>50%</th>\n",
       "      <td>6.419800e+05</td>\n",
       "      <td>8.214550e+05</td>\n",
       "      <td>9000.000000</td>\n",
       "      <td>8800.000000</td>\n",
       "      <td>8000.000000</td>\n",
       "      <td>36.000000</td>\n",
       "      <td>11.490000</td>\n",
       "      <td>261.880000</td>\n",
       "      <td>55000.000000</td>\n",
       "      <td>13.390000</td>\n",
       "      <td>...</td>\n",
       "      <td>0.000000</td>\n",
       "      <td>0.000000</td>\n",
       "      <td>511.375000</td>\n",
       "      <td>704.000000</td>\n",
       "      <td>700.000000</td>\n",
       "      <td>1.0</td>\n",
       "      <td>0.0</td>\n",
       "      <td>0.0</td>\n",
       "      <td>2011.000000</td>\n",
       "      <td>7.000000</td>\n",
       "    </tr>\n",
       "    <tr>\n",
       "      <th>75%</th>\n",
       "      <td>8.197100e+05</td>\n",
       "      <td>1.027240e+06</td>\n",
       "      <td>14000.000000</td>\n",
       "      <td>13225.000000</td>\n",
       "      <td>12500.000000</td>\n",
       "      <td>36.000000</td>\n",
       "      <td>13.980000</td>\n",
       "      <td>389.300000</td>\n",
       "      <td>78000.000000</td>\n",
       "      <td>18.610000</td>\n",
       "      <td>...</td>\n",
       "      <td>0.000000</td>\n",
       "      <td>0.000000</td>\n",
       "      <td>2950.467500</td>\n",
       "      <td>754.000000</td>\n",
       "      <td>750.000000</td>\n",
       "      <td>1.0</td>\n",
       "      <td>0.0</td>\n",
       "      <td>0.0</td>\n",
       "      <td>2011.000000</td>\n",
       "      <td>10.000000</td>\n",
       "    </tr>\n",
       "    <tr>\n",
       "      <th>max</th>\n",
       "      <td>1.077501e+06</td>\n",
       "      <td>1.313524e+06</td>\n",
       "      <td>32000.000000</td>\n",
       "      <td>31200.000000</td>\n",
       "      <td>30975.000000</td>\n",
       "      <td>60.000000</td>\n",
       "      <td>23.590000</td>\n",
       "      <td>946.890000</td>\n",
       "      <td>260735.000000</td>\n",
       "      <td>29.990000</td>\n",
       "      <td>...</td>\n",
       "      <td>2240.160000</td>\n",
       "      <td>490.540800</td>\n",
       "      <td>15770.340000</td>\n",
       "      <td>850.000000</td>\n",
       "      <td>845.000000</td>\n",
       "      <td>1.0</td>\n",
       "      <td>0.0</td>\n",
       "      <td>0.0</td>\n",
       "      <td>2011.000000</td>\n",
       "      <td>12.000000</td>\n",
       "    </tr>\n",
       "  </tbody>\n",
       "</table>\n",
       "<p>8 rows × 35 columns</p>\n",
       "</div>"
      ],
      "text/plain": [
       "                 id     member_id     loan_amnt   funded_amnt  \\\n",
       "count  3.313400e+04  3.313400e+04  33134.000000  33134.000000   \n",
       "mean   6.639692e+05  8.258805e+05  10003.149333   9767.132704   \n",
       "std    2.140413e+05  2.724007e+05   6090.148651   5848.069697   \n",
       "min    5.473400e+04  7.069400e+04    500.000000    500.000000   \n",
       "25%    5.007332e+05  6.424562e+05   5000.000000   5000.000000   \n",
       "50%    6.419800e+05  8.214550e+05   9000.000000   8800.000000   \n",
       "75%    8.197100e+05  1.027240e+06  14000.000000  13225.000000   \n",
       "max    1.077501e+06  1.313524e+06  32000.000000  31200.000000   \n",
       "\n",
       "       funded_amnt_inv          term      int_rate   installment  \\\n",
       "count     33134.000000  33134.000000  33134.000000  33134.000000   \n",
       "mean       9216.703607     41.318766     11.555758    294.470614   \n",
       "std        5837.134528      9.968155      3.508520    177.929022   \n",
       "min           0.000000     36.000000      5.420000     15.670000   \n",
       "25%        4875.000000     36.000000      8.590000    160.847500   \n",
       "50%        8000.000000     36.000000     11.490000    261.880000   \n",
       "75%       12500.000000     36.000000     13.980000    389.300000   \n",
       "max       30975.000000     60.000000     23.590000    946.890000   \n",
       "\n",
       "          annual_inc           dti      ...          recoveries  \\\n",
       "count   33134.000000  33134.000000      ...        33134.000000   \n",
       "mean    62675.164872     13.313258      ...           35.594037   \n",
       "std     33894.914739      6.730399      ...          173.026342   \n",
       "min      1896.000000      0.000000      ...            0.000000   \n",
       "25%     40000.000000      8.090000      ...            0.000000   \n",
       "50%     55000.000000     13.390000      ...            0.000000   \n",
       "75%     78000.000000     18.610000      ...            0.000000   \n",
       "max    260735.000000     29.990000      ...         2240.160000   \n",
       "\n",
       "       collection_recovery_fee  last_pymnt_amnt  last_fico_range_high  \\\n",
       "count             33134.000000     33134.000000          33134.000000   \n",
       "mean                  2.376604      2176.794300            697.817408   \n",
       "std                  21.152404      3211.287367             73.396411   \n",
       "min                   0.000000         0.000000            504.000000   \n",
       "25%                   0.000000       211.317500            654.000000   \n",
       "50%                   0.000000       511.375000            704.000000   \n",
       "75%                   0.000000      2950.467500            754.000000   \n",
       "max                 490.540800     15770.340000            850.000000   \n",
       "\n",
       "       last_fico_range_low  policy_code  acc_now_delinq  delinq_amnt  \\\n",
       "count         33134.000000      33134.0         33134.0      33134.0   \n",
       "mean            693.817227          1.0             0.0          0.0   \n",
       "std              73.396036          0.0             0.0          0.0   \n",
       "min             500.000000          1.0             0.0          0.0   \n",
       "25%             650.000000          1.0             0.0          0.0   \n",
       "50%             700.000000          1.0             0.0          0.0   \n",
       "75%             750.000000          1.0             0.0          0.0   \n",
       "max             845.000000          1.0             0.0          0.0   \n",
       "\n",
       "       issue_d_year  issue_d_month  \n",
       "count  33134.000000   33134.000000  \n",
       "mean    2010.244794       7.093167  \n",
       "std        0.933219       3.403309  \n",
       "min     2007.000000       1.000000  \n",
       "25%     2010.000000       4.000000  \n",
       "50%     2011.000000       7.000000  \n",
       "75%     2011.000000      10.000000  \n",
       "max     2011.000000      12.000000  \n",
       "\n",
       "[8 rows x 35 columns]"
      ]
     },
     "execution_count": 557,
     "metadata": {},
     "output_type": "execute_result"
    }
   ],
   "source": [
    "# Generates descriptive statistics that summarize the central tendency, dispersion and shape of a dataset's distribution\n",
    "df_loan.describe()"
   ]
  },
  {
   "cell_type": "markdown",
   "metadata": {},
   "source": [
    "#### 4.1 Box Plot\n",
    "\n",
    "Examine relationship between income and loan amount. Boxplots are standard way of displaying the distribution of data based on a view statistical features."
   ]
  },
  {
   "cell_type": "code",
   "execution_count": 558,
   "metadata": {},
   "outputs": [
    {
     "data": {
      "text/plain": [
       "((33134,), (33134,))"
      ]
     },
     "execution_count": 558,
     "metadata": {},
     "output_type": "execute_result"
    }
   ],
   "source": [
    "df_loan['annual_inc'].shape, df_loan['loan_status'].shape"
   ]
  },
  {
   "cell_type": "code",
   "execution_count": 560,
   "metadata": {},
   "outputs": [
    {
     "data": {
      "image/png": "[encoded data removed]",
      "text/plain": [
       "<Figure size 1080x720 with 1 Axes>"
      ]
     },
     "metadata": {},
     "output_type": "display_data"
    }
   ],
   "source": [
    "ax = sns.boxplot(x=df_loan['annual_inc'], y=df_loan['loan_status'])"
   ]
  },
  {
   "cell_type": "code",
   "execution_count": 561,
   "metadata": {},
   "outputs": [
    {
     "data": {
      "image/png": "[encoded data removed]",
      "text/plain": [
       "<Figure size 1080x720 with 1 Axes>"
      ]
     },
     "metadata": {},
     "output_type": "display_data"
    }
   ],
   "source": [
    "ax = sns.boxplot(x=df_loan['grade'], y=df_loan['annual_inc'])"
   ]
  },
  {
   "cell_type": "markdown",
   "metadata": {},
   "source": [
    "#### 4.2 Probability Distribution"
   ]
  },
  {
   "cell_type": "code",
   "execution_count": 568,
   "metadata": {},
   "outputs": [
    {
     "data": {
      "image/png": "[encoded data removed]",
      "text/plain": [
       "<Figure size 720x576 with 1 Axes>"
      ]
     },
     "metadata": {},
     "output_type": "display_data"
    }
   ],
   "source": [
    "plt.figure(figsize = (10, 8))\n",
    "g = sns.distplot(df_loan['annual_inc'])\n",
    "g.set_xlabel('annual_inc', fontsize=12)\n",
    "plt.show()"
   ]
  },
  {
   "cell_type": "markdown",
   "metadata": {},
   "source": [
    "#### 4.3. Bayesian Statistics"
   ]
  },
  {
   "cell_type": "code",
   "execution_count": 522,
   "metadata": {},
   "outputs": [
    {
     "name": "stdout",
     "output_type": "stream",
     "text": [
      "Unique values of loan_status: ['Fully Paid' 'Current' 'Charged Off' 'In Grace Period'\n",
      " 'Late (16-30 days)' 'Does not meet the credit policy. Status:Fully Paid'\n",
      " 'Does not meet the credit policy. Status:Charged Off']\n",
      "\n"
     ]
    }
   ],
   "source": [
    "print('Unique values of loan_status: {}\\n'.format(df_loan['loan_status'].unique()))"
   ]
  },
  {
   "cell_type": "code",
   "execution_count": 523,
   "metadata": {},
   "outputs": [
    {
     "data": {
      "text/plain": [
       "(33134, 45)"
      ]
     },
     "metadata": {},
     "output_type": "display_data"
    },
    {
     "data": {
      "text/plain": [
       "(31686, 45)"
      ]
     },
     "execution_count": 523,
     "metadata": {},
     "output_type": "execute_result"
    }
   ],
   "source": [
    "# modify column 'loan_status'\n",
    "display(df_loan.shape)\n",
    "df_loan = df_loan.drop(df_loan[df_loan['loan_status'] == 'Current'].index.tolist(), axis=0)\n",
    "df_loan = df_loan.drop(df_loan[df_loan['loan_status'] == 'In Grace Period'].index.tolist(), axis=0)\n",
    "df_loan = df_loan.drop(df_loan[df_loan['loan_status'] == 'Late (31-120 days)'].index.tolist(), axis=0)\n",
    "df_loan = df_loan.drop(df_loan[df_loan['loan_status'] == 'Late (16-30 days)'].index.tolist(), axis=0)\n",
    "df_loan = df_loan.drop(df_loan[df_loan['loan_status'] == 'Does not meet the credit policy. Status:Fully Paid'].index.tolist(), axis=0)\n",
    "df_loan = df_loan.drop(df_loan[df_loan['loan_status'] == 'Does not meet the credit policy. Status:Charged Off'].index.tolist(), axis=0)\n",
    "\n",
    "df_loan['loan_status'][df_loan['loan_status'] == 'Fully Paid'] = 1\n",
    "df_loan['loan_status'][df_loan['loan_status'] == 'Default'] = 1\n",
    "df_loan['loan_status'][df_loan['loan_status'] == 'Charged Off'] = 0\n",
    "\n",
    "df_loan.shape"
   ]
  }
 ],
 "metadata": {
  "kernelspec": {
   "display_name": "Python 3",
   "language": "python",
   "name": "python3"
  },
  "language_info": {
   "codemirror_mode": {
    "name": "ipython",
    "version": 3
   },
   "file_extension": ".py",
   "mimetype": "text/x-python",
   "name": "python",
   "nbconvert_exporter": "python",
   "pygments_lexer": "ipython3",
   "version": "3.6.7"
  }
 },
 "nbformat": 4,
 "nbformat_minor": 2
}
