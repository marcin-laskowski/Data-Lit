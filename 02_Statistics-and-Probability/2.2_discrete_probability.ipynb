{
 "cells": [
  {
   "cell_type": "markdown",
   "metadata": {},
   "source": [
    "# **DISCRETE PROBABILITY**"
   ]
  },
  {
   "cell_type": "markdown",
   "metadata": {},
   "source": [
    "### 1. EXPECTED VALUE FUNCTION\n",
    "\n",
    "Expected value is the average value of a random variable over a large number of experiments."
   ]
  },
  {
   "cell_type": "markdown",
   "metadata": {},
   "source": [
    "### 2. VARIANCE AND STANDARD DEVIATION\n",
    "\n",
    "**Variance** - It measures the average squared distance that scores deviate from their mean.\n",
    "\n",
    "**Standard Deviation** - It is the square root of variance. It is average distance that scores deviate from their mean. "
   ]
  },
  {
   "cell_type": "markdown",
   "metadata": {},
   "source": [
    "### 3. DISCRETE PROBABILITY DISTRIBUTIONS\n",
    "\n",
    "#### 3.1 Bernoulli distribution\n",
    "Every time you flip a coin, there are only two possible outcomes, heads or tails, and there’s a 50% chance of either outcome. A coin flip is an example of a Bernoulli trial, which is any random experiment in which there are exactly two possible outcomes.\n",
    "\n",
    "A Bernoulli distribution is the probability distribution for a series of Bernoulli trials. It is the simplest kind of discrete probability distribution that can only take two possible values, usually 0 and 1 (success and failure). It named after Swiss mathematician Jacob Bernoulli.\n",
    "\n",
    "\n",
    "#### 3.2 Binomial Distribution\n",
    "#### 3.3 Multinomial Distribution\n",
    "#### 3.4 Hypergeometric Distribution\n",
    "#### 3.5 Negative binomial Distribution\n",
    "#### 3.6 Poisson Distribution\n",
    "It is used to calculate the probability of an event occurring over a certain interval. The interval can be one of time, area, volume or distance. Usually, it can be applied to systems with a large number of possible events, each of which is rare.\n",
    "\n",
    "\n",
    "#### 3.7 Geometric Distribution\n",
    "#### 3.8 discrete uniform distribution\n",
    "#### 3.9 Moment-Generation"
   ]
  },
  {
   "cell_type": "markdown",
   "metadata": {},
   "source": [
    "### 4. ADDITIONAL MATERIALS\n",
    "\n",
    "- [Statistics Cheat Sheet](http://web.mit.edu/~csvoss/Public/usabo/stats_handout.pdf)\n",
    "- [Stats cheat sheet](http://people.fas.harvard.edu/~mparzen/stat100/Stat%20100%20Final%20Cheat%20Sheets%20-%20Google%20Docs%20(2).pdf)\n",
    "- [Basic of Statistics](https://www.mv.helsinki.fi/home/jmisotal/BoS.pdf)\n",
    "- [Basic concepts of statistics](http://core.ecu.edu/ofe/statisticsresearch/basic%20statistics%20I.pdf)"
   ]
  }
 ],
 "metadata": {
  "kernelspec": {
   "display_name": "Python 3",
   "language": "python",
   "name": "python3"
  },
  "language_info": {
   "codemirror_mode": {
    "name": "ipython",
    "version": 3
   },
   "file_extension": ".py",
   "mimetype": "text/x-python",
   "name": "python",
   "nbconvert_exporter": "python",
   "pygments_lexer": "ipython3",
   "version": "3.6.7"
  }
 },
 "nbformat": 4,
 "nbformat_minor": 2
}
