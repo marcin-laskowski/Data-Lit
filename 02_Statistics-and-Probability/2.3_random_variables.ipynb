{
 "cells": [
  {
   "cell_type": "markdown",
   "metadata": {},
   "source": [
    "# **RANDOM VARIABLES**"
   ]
  },
  {
   "cell_type": "markdown",
   "metadata": {},
   "source": [
    "### 1. INTRODUCTION\n",
    "\n",
    "**A random variable** is defined as a function that maps the outcomes of an unpredictable process to numerical quantities, typically real numbers. It is a variable (specifically a dependent variable), in the sense that it depends on the outcome of an underlying process providing the input to this function, and it is random in the sense that the underlying process is assumed to be random"
   ]
  },
  {
   "cell_type": "markdown",
   "metadata": {},
   "source": [
    "### 2. DISCRETE RANDOM VARIABLE\n",
    "\n",
    "**A discrete random** variable may take on only a countable number of distinct values. If a random variable can take only a finite number of distinct values, then it must be discrete.\n",
    "\n",
    "Examples of discrete random variables include: \n",
    "- The number of children in a family. \n",
    "- The Friday night attendance at a cinema. \n",
    "- The number of patients in a doctor’s surgery. \n",
    "- The number of defective light bulbs in a box of ten. \n",
    "\n",
    "**The probability distribution of a discrete random variable** is a list of probabilities associated with each of its possible values. It is also sometimes called the probability function or the probability mass function. "
   ]
  },
  {
   "cell_type": "markdown",
   "metadata": {},
   "source": [
    "### 3. CONTINUOUS RANDOM VARIABLE\n",
    "\n",
    "**A continuous random variable** takes an infinite number of possible values. They are usually measurements.  \n",
    "\n",
    "A continuous random variable is not defined at a specific set of values. Instead, it is defined over an interval of values and is represented by the area under a curve. The probability of observing any single value is equal to 0, since the number of values which may be assumed by the random variable is infinite. \n",
    "\n",
    "Suppose a random variable X may take all values over an interval of real numbers. Then the probability that X is in the set of outcomes A, P(A), is defined to be the area above A and under a curve. The curve also known as density curve, which represents a function p(x), must satisfy the following: \n",
    "- The curve has no negative values (p(x) > 0 for all x) \n",
    "- The total area under the curve is equal to 1. \n",
    "\n",
    "#### 3.1 Uniform Distribution\n",
    "**The Uniform Distribution** (also called the Rectangular Distribution) is the simplest distribution. \n",
    "\n",
    "It has equal probability for all values of the Random variable between a and b\n",
    "\n",
    "#### 3.4 Cumulative Uniform Distribution\n",
    "We can have the Uniform Distribution as a cumulative (adding up as it goes along) distribution: \n",
    "\n",
    "#### 3.3 Normal Distribution"
   ]
  }
 ],
 "metadata": {
  "kernelspec": {
   "display_name": "Python 3",
   "language": "python",
   "name": "python3"
  },
  "language_info": {
   "codemirror_mode": {
    "name": "ipython",
    "version": 3
   },
   "file_extension": ".py",
   "mimetype": "text/x-python",
   "name": "python",
   "nbconvert_exporter": "python",
   "pygments_lexer": "ipython3",
   "version": "3.6.7"
  }
 },
 "nbformat": 4,
 "nbformat_minor": 2
}
