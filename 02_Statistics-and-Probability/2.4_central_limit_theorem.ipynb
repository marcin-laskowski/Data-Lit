{
 "cells": [
  {
   "cell_type": "markdown",
   "metadata": {},
   "source": [
    "# **CENTRAL LIMIT THEOREM**"
   ]
  },
  {
   "cell_type": "markdown",
   "metadata": {},
   "source": [
    "### **1. RANDOM VARIABLE**\n",
    "\n",
    "A Random Variable is the result of chance event that you can measure or count.\n",
    "\n",
    "#### 1.1 Discrete Random Variable\n",
    "Thinks that you can count (e.g number of lemons made by a tree).\n",
    "\n",
    "#### 1.2 Continuous Random Variables\n",
    "Measurements that can be expressed with high accuracy (e.g weight of lemons from a tree in grams)."
   ]
  },
  {
   "cell_type": "markdown",
   "metadata": {},
   "source": [
    "### **2. POPULATION vs. SAMPLE**\n",
    "\n",
    "#### 2.1 Population\n",
    "\n",
    "#### 2.2 Sample"
   ]
  },
  {
   "cell_type": "markdown",
   "metadata": {},
   "source": [
    "### **3. PROBABILITY DISTRIBUTION**\n",
    "\n",
    "It is a function that helps to estimate the probability of any measurement within the population being within a specific range.\n",
    "\n",
    "One important asspect of probability distribution is that the measurements need to be independent of each other."
   ]
  },
  {
   "cell_type": "markdown",
   "metadata": {},
   "source": [
    "### **4. CENTRAL LIMIT THEOREM**\n",
    "\n",
    "Concerned with the sampling distribution of the mean. (Repeatedy take random samples of size n, calculate the mean of each sample, analyze that distribution)\n",
    "\n",
    "Above statement lead us to following conclusions:\n",
    "1. The sampling distribution of the mean will be less spread than the values in the population from which the sample is drawn\n",
    "2. The sampling distribution will be well-modeled by a normal distribution (and it will get closer with larger sample size)\n",
    "3. The spread of the sampling distribution is related to the spread of the population values (mean = population mean, standard deviation = population std dev / sqrt(sample size))\n",
    "4. Bigger samples lead to a smaller spread in the sampling distribution (self-evident from the equation above)"
   ]
  },
  {
   "cell_type": "markdown",
   "metadata": {},
   "source": [
    "### **ADDITIONAL MATERIALS**\n",
    "- [Basic Statistics concepts easy explained](https://www.mathsisfun.com/data/)"
   ]
  }
 ],
 "metadata": {
  "kernelspec": {
   "display_name": "Python 3",
   "language": "python",
   "name": "python3"
  },
  "language_info": {
   "codemirror_mode": {
    "name": "ipython",
    "version": 3
   },
   "file_extension": ".py",
   "mimetype": "text/x-python",
   "name": "python",
   "nbconvert_exporter": "python",
   "pygments_lexer": "ipython3",
   "version": "3.6.7"
  }
 },
 "nbformat": 4,
 "nbformat_minor": 2
}
