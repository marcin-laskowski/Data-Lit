{
 "cells": [
  {
   "cell_type": "markdown",
   "metadata": {},
   "source": [
    "# **HYPOTHESIS TESTING** | READING ASSIGNMENT"
   ]
  },
  {
   "cell_type": "markdown",
   "metadata": {},
   "source": [
    "### [1. HYPOTHESIS TESTING](http://greenteapress.com/thinkstats/html/thinkstats008.html)"
   ]
  },
  {
   "cell_type": "markdown",
   "metadata": {},
   "source": [
    "### [2. HYPOTHESIS TESTING: COMPARING TWO GROUPS](http://scipy-lectures.org/packages/statistics/index.html#hypothesis-testing-comparing-two-groups)"
   ]
  },
  {
   "cell_type": "markdown",
   "metadata": {},
   "source": [
    "### [3. HYPOTHESIS TESTING AND THE T-TEST](http://hamelg.blogspot.com/2015/11/python-for-data-analysis-part-24.html)"
   ]
  },
  {
   "cell_type": "markdown",
   "metadata": {},
   "source": [
    "### [4. STATISTICAL DISTRIBUTION](http://people.stern.nyu.edu/adamodar/New_Home_Page/StatFile/statdistns.htm)"
   ]
  },
  {
   "cell_type": "markdown",
   "metadata": {},
   "source": [
    "### [5. SIGNIFICANCE TESTS](https://www.khanacademy.org/math/ap-statistics/tests-significance-ap/modal/v/idea-behind-hypothesis-testing)"
   ]
  },
  {
   "cell_type": "markdown",
   "metadata": {},
   "source": [
    "### 5. MAIN CONCEPTS:\n",
    "\n",
    "#### 5.1 STANDARD DEVIATION\n",
    "Standard deviation gives a measure of how spread out from the center a group of data points is. Together with the mean (average), this number can be used to fully describe a normal probability distribution. The word ‘normal’ is used here in a math sense, for a distribution of data aligned to a bell curve. Increasing the sample size results in a more normal distribution.\n",
    "\n",
    "#### 5.2 NULL HYPOTHESIS\n",
    "When a scientist wants to test for an effect (ie that one drug is more effective than another), they frame the problem in reverse. That is, rather than test for a difference, the scientist tests for sameness. If the scientist can disprove the sameness of the two drugs (the null hypothesis), they can confidently say that one is more effective than the other.\n",
    "\n",
    "#### 5.3 ALTERNATIVE HYPOTHESIS\n",
    "The alternative hypothesis is simply the opposite of the null hypothesis. This is used to represent the condition when two things are different, such as when one clinical treatment is more effective. Generally, this is what the scientist wants to prove.\n",
    "\n",
    "#### 5.4 SIGNIFICANCE (ALPHA)\n",
    "In order to decide if a result is meaningful, it is necessary to choose a threshold called ‘significance’. This number defines how extreme a result must be to cause us to doubt our null hypothesis. Usually the value of 0.05 (5%) is chosen for our significance. This can also be described as a confidence interval of 95%.\n",
    "\n",
    "#### 5.5 P-VALUE\n",
    "The p-value is the probability of observing an effect (test statistic) as extreme as what was observed, under the assumption that the null hypothesis is true. This is the value which is compared to the significance, in order to judge the validity of the results.\n",
    "\n",
    "#### 5.6 TEST STATISTICS\n",
    "A test statistic is a single random number, obtained by sampling observed data as an intermediate step to getting the p-value. It goes by various names (z-statistic / z-value, t-statistic, f-statistic, chi-square statistic) depending on the context. In the case of a t or z-test, a value close to zero means that the sample is evidence toward failing to reject the null hypothesis.\n",
    "\n",
    "#### 5.7 TYPE I ERROR\n",
    "A type-1 error occurs when we reject the null hypothesis, but in reality it is true. This represents the case when we test for a difference and it exceeds our significance (alpha), but is in fact merely due to random chance. This error occurs with a chance equal to our P-value.\n",
    "\n",
    "#### 5.8 TYPE II ERROR\n",
    "In the case of a type-2 error, we fail to reject the null hypothesis when actually we should reject it. We avoid making a type-2 error with a probability equal to our ‘power’.\n",
    "\n",
    "#### 5.9 POWER\n",
    "‘Power’ is the probability of rejecting the null hypothesis when it is false. Since power is the same as the chance of a not making a type-2 error, more power means higher quality scientific evidence. We can get more power in our results by either increasing alpha (at the cost of type-1 errors), or by increasing the amount of data used in our sampling process.\n",
    "\n",
    "#### 5.10 Z-TEST\n",
    "The z-test is used when we are comparing proportions. The final value returned, called the z-value, is a test statistic that measures how many standard deviations the observed sample proportion is from the norm.\n",
    "\n",
    "#### 5.11 T-TEST\n",
    "A t-test is very similar to a z-test, but it is used when comparing means, rather than proportions.\n",
    "\n",
    "#### 5.12 ONE SAMPLE vs TWO SAMPLE TEST\n",
    "When we are comparing to an assumption, or a predefined standard, we use a one sample test. On the other hand, when we have two populations from which to draw samples, as is the case for an A/B test, we do a two sample test."
   ]
  }
 ],
 "metadata": {
  "kernelspec": {
   "display_name": "Python 3",
   "language": "python",
   "name": "python3"
  },
  "language_info": {
   "codemirror_mode": {
    "name": "ipython",
    "version": 3
   },
   "file_extension": ".py",
   "mimetype": "text/x-python",
   "name": "python",
   "nbconvert_exporter": "python",
   "pygments_lexer": "ipython3",
   "version": "3.6.7"
  }
 },
 "nbformat": 4,
 "nbformat_minor": 2
}
